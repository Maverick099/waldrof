{
 "cells": [
  {
   "cell_type": "markdown",
   "id": "92ed88e3",
   "metadata": {},
   "source": [
    "# Sandbox Not found Error:\n",
    "\n",
    "If facing the same `test/flpsandbox.html` not found whenever running the `npm start`, then its beaccause the ui5.yaml is generated with minimum configuration and the mising the path property.\n",
    "\n"
   ]
  }
 ],
 "metadata": {
  "language_info": {
   "name": "python"
  }
 },
 "nbformat": 4,
 "nbformat_minor": 5
}
