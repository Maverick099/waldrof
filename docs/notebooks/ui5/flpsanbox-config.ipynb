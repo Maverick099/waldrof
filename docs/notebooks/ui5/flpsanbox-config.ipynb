{
 "cells": [
  {
   "cell_type": "markdown",
   "id": "92ed88e3",
   "metadata": {},
   "source": [
    "# Sandbox Not found Error:\n",
    "\n",
    "If facing the same `test/flpsandbox.html` not found whenever running the `npm start`, then its beaccause the ui5.yaml is generated with minimum configuration and the mising the path property.\n",
    "\n",
    "on `ui5.yaml` or equivalent add the path configuration for flp under fiori-tools-preview:\n",
    "\n",
    "```yaml\n",
    "- name: fiori-tools-preview\n",
    "      afterMiddleware: fiori-tools-appreload\n",
    "      configuration:\n",
    "        flp:\n",
    "          path: /test/flpSandbox.html\n",
    "          theme: sap_horizon\n",
    "\n",
    "```\n",
    "Reference: \n",
    "\n",
    "![path config image](../../assets/images/flpsandbox-path-config.png)\n",
    "\n"
   ]
  }
 ],
 "metadata": {
  "language_info": {
   "name": "python"
  }
 },
 "nbformat": 4,
 "nbformat_minor": 5
}
